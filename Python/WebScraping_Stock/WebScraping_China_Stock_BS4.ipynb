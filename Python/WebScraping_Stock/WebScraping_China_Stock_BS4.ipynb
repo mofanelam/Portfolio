{
 "cells": [
  {
   "cell_type": "markdown",
   "metadata": {},
   "source": [
    "Download the stock list from Shenzhen Stock Exchange (SZSE) http://www.szse.cn/market/stock/list/\n",
    "In Local directory: a_stock_list.xlsx\n"
   ]
  },
  {
   "cell_type": "code",
   "execution_count": 38,
   "metadata": {},
   "outputs": [
    {
     "name": "stdout",
     "output_type": "stream",
     "text": [
      "   tickerSymbol          firmName listingDate industry                website\n",
      "0        300001     青岛特锐德电气股份有限公司  2009-10-30    C 制造业        www.qdtgood.com\n",
      "1        300002    北京神州泰岳软件股份有限公司  2009-10-30   I 信息技术  www.ultrapower.com.cn\n",
      "2        300003  乐普（北京）医疗器械股份有限公司  2009-10-30    C 制造业    www.lepumedical.com\n"
     ]
    }
   ],
   "source": [
    "import pandas as pd\n",
    "import numpy as np\n",
    "df = pd.read_excel(\"a_stock_list.xlsx\")\n",
    "# print(df.info())\n",
    "df2 = df[['A股代码', '公司全称', 'A股上市日期' ,'所属行业', '公司网址']]\n",
    "# print(df2.info())\n",
    "list_name = ['tickerSymbol', 'firmName', 'listingDate', 'industry', 'website']\n",
    "df2.columns = list_name\n",
    "temp =df2[:3]\n",
    "print(temp)"
   ]
  },
  {
   "cell_type": "code",
   "execution_count": 39,
   "metadata": {},
   "outputs": [
    {
     "name": "stdout",
     "output_type": "stream",
     "text": [
      "20.610 20.480 20.540 20.900 20.280\n",
      "6.440 6.550 6.620 6.850 6.440\n",
      "41.850 42.220 41.530 42.170 41.100\n",
      "20.610 20.480 20.540 20.900 20.280\n",
      "6.440 6.550 6.620 6.850 6.440\n",
      "41.850 42.220 41.530 42.170 41.100\n",
      "20.610 20.480 20.540 20.900 20.280\n",
      "300002 is unavailable this time\n",
      "41.850 42.220 41.530 42.170 41.100\n",
      "20.610 20.480 20.540 20.900 20.280\n",
      "6.440 6.550 6.620 6.850 6.440\n",
      "41.850 42.220 41.530 42.170 41.100\n",
      "20.610 20.480 20.540 20.900 20.280\n",
      "6.440 6.550 6.620 6.850 6.440\n",
      "41.850 42.220 41.530 42.170 41.100\n"
     ]
    }
   ],
   "source": [
    "from urllib.request import urlopen as uReq\n",
    "from bs4 import BeautifulSoup\n",
    "import time\n",
    "\n",
    "my_url = 'https://hq.sinajs.cn/list=sz'\n",
    "tickerCodes = temp['tickerSymbol']\n",
    "for _ in range(5):\n",
    "    for code in tickerCodes:\n",
    "        try:\n",
    "            stock_url = my_url + str(code)\n",
    "            uClient = uReq(stock_url,timeout=0.2)\n",
    "            html_doc =uClient.read()\n",
    "            html = str(html_doc).split(',')\n",
    "            starting = html[1]\n",
    "            closing = html[2]\n",
    "            priceNow = html[3]\n",
    "            highest = html[4]\n",
    "            lowest = html[5]\n",
    "            date = html[-3]\n",
    "            collectTime = html[-4]\n",
    "            print(starting, closing, priceNow, highest, lowest)\n",
    "        except:\n",
    "            print(str(code) + \" is unavailable this time\")\n",
    "uClient.close()"
   ]
  },
  {
   "cell_type": "code",
   "execution_count": 36,
   "metadata": {},
   "outputs": [
    {
     "name": "stdout",
     "output_type": "stream",
     "text": [
      "15:38:08.654172\n"
     ]
    }
   ],
   "source": [
    "from datetime import datetime\n",
    "timeNow = datetime.now().time()\n",
    "stockStart = datetime.strptime(\"09:30:00\",\"%H:%M:%S\").time()\n",
    "stockLunchStart = datetime.strptime(\"11:30:00\",\"%H:%M:%S\").time()\n",
    "stockLunchFinish = datetime.strptime(\"13:00:00\",\"%H:%M:%S\").time()\n",
    "stockFinish = datetime.strptime(\"15:00:00\",\"%H:%M:%S\").time()\n",
    "print(timeNow)"
   ]
  },
  {
   "cell_type": "code",
   "execution_count": null,
   "metadata": {},
   "outputs": [],
   "source": []
  }
 ],
 "metadata": {
  "kernelspec": {
   "display_name": "Python 3",
   "language": "python",
   "name": "python3"
  },
  "language_info": {
   "codemirror_mode": {
    "name": "ipython",
    "version": 3
   },
   "file_extension": ".py",
   "mimetype": "text/x-python",
   "name": "python",
   "nbconvert_exporter": "python",
   "pygments_lexer": "ipython3",
   "version": "3.7.3"
  }
 },
 "nbformat": 4,
 "nbformat_minor": 2
}
